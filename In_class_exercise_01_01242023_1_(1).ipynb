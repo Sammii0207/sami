{
  "cells": [
    {
      "cell_type": "markdown",
      "metadata": {
        "id": "view-in-github",
        "colab_type": "text"
      },
      "source": [
        "<a href=\"https://colab.research.google.com/github/Sammii0207/sami/blob/main/In_class_exercise_01_01242023_1_(1).ipynb\" target=\"_parent\"><img src=\"https://colab.research.google.com/assets/colab-badge.svg\" alt=\"Open In Colab\"/></a>"
      ]
    },
    {
      "cell_type": "markdown",
      "metadata": {
        "id": "DymRJbxDBCnf"
      },
      "source": [
        "# **The first In-class-exercise (01/24/2023, 40 points in total)**"
      ]
    },
    {
      "cell_type": "markdown",
      "metadata": {
        "id": "03jb4GZsBkBS"
      },
      "source": [
        "(1) Write a Python program to calculate the length of a string. (4 points)"
      ]
    },
    {
      "cell_type": "code",
      "execution_count": null,
      "metadata": {
        "colab": {
          "base_uri": "https://localhost:8080/"
        },
        "id": "YaGLbSHHB8Ej",
        "outputId": "c198eeb2-5f02-4294-ed5d-6d0e19ebb25a"
      },
      "outputs": [
        {
          "output_type": "stream",
          "name": "stdout",
          "text": [
            "The length of the string is: 20\n"
          ]
        }
      ],
      "source": [
        "# write your answer here\n",
        "def calc_string_length(string):\n",
        "    count = 0\n",
        "    for char in string:\n",
        "        count += 1\n",
        "    return count\n",
        "\n",
        "length = calc_string_length(\"My First python code\")\n",
        "print(\"The length of the string is:\", length)\n",
        "\n"
      ]
    },
    {
      "cell_type": "markdown",
      "metadata": {
        "id": "jJDe71iLB616"
      },
      "source": [
        "(2) Write a Python program to count the number of characters in a string. (4 points)\n",
        "\n",
        "Sample String : 'google.com‘, \n",
        "\n",
        "Expected Result : {'o': 3, 'g': 2, '.': 1, 'e': 1, 'l': 1, 'm': 1, 'c': 1}"
      ]
    },
    {
      "cell_type": "code",
      "execution_count": null,
      "metadata": {
        "colab": {
          "base_uri": "https://localhost:8080/"
        },
        "id": "MtKskTzbCLaU",
        "outputId": "e387d573-dd10-4ef8-8d50-9e581ac4d4aa"
      },
      "outputs": [
        {
          "output_type": "stream",
          "name": "stdout",
          "text": [
            "{'F': 1, 'a': 1, 'c': 2, 'e': 1, 'b': 1, 'o': 3, 'k': 1, '.': 1, 'm': 1}\n"
          ]
        }
      ],
      "source": [
        "# write your answer here\n",
        "def character_count(string):\n",
        "    count_dict = {}\n",
        "    for char in string:\n",
        "        if char in count_dict:\n",
        "            count_dict[char] += 1\n",
        "        else:\n",
        "            count_dict[char] = 1\n",
        "    return count_dict\n",
        "\n",
        "print(character_count(\"Facebook.com\"))\n"
      ]
    },
    {
      "cell_type": "markdown",
      "metadata": {
        "id": "55W9AMdXCSpV"
      },
      "source": [
        "(3) Write a Python program to sum all the items in a list. (4 points)"
      ]
    },
    {
      "cell_type": "code",
      "execution_count": null,
      "metadata": {
        "colab": {
          "base_uri": "https://localhost:8080/"
        },
        "id": "I57NXsauCec2",
        "outputId": "f5daca06-4f05-4e16-bd46-5bd120d2a401"
      },
      "outputs": [
        {
          "output_type": "stream",
          "name": "stdout",
          "text": [
            "419\n"
          ]
        }
      ],
      "source": [
        "# write your answer here\n",
        "def sum_of_list(numbers):\n",
        "    sum = 0\n",
        "    for num in numbers:\n",
        "        sum += num\n",
        "    return sum\n",
        "\n",
        "print(sum_of_list([13, 24, 53, 94, 235]))\n"
      ]
    },
    {
      "cell_type": "markdown",
      "metadata": {
        "id": "4ulBZ6yhCi9F"
      },
      "source": [
        "(4) Write a Python program to get a string from a given string where all occurrences of its first char have been changed to '\\$', except the first char itself. (4 points)\n",
        "\n",
        "Sample String : 'restart‘, \n",
        "\n",
        "Expected Result : 'resta\\$t'"
      ]
    },
    {
      "cell_type": "code",
      "execution_count": null,
      "metadata": {
        "colab": {
          "base_uri": "https://localhost:8080/"
        },
        "id": "Fj0XhwbBCw2o",
        "outputId": "03e81177-17b0-4482-d6b7-0c04c70d9b11"
      },
      "outputs": [
        {
          "output_type": "stream",
          "name": "stdout",
          "text": [
            "resta$$$$t\n"
          ]
        }
      ],
      "source": [
        "# write your answer here\n",
        "def replace_character(string):\n",
        "    first_char = string[0]\n",
        "    result = string[0]\n",
        "    for char in string[1:]:\n",
        "        if char == first_char:\n",
        "            result += '$'\n",
        "        else:\n",
        "            result += char\n",
        "    return result\n",
        "\n",
        "print(replace_character(\"restarrrrt\"))\n",
        "\n"
      ]
    },
    {
      "cell_type": "markdown",
      "metadata": {
        "id": "_bIP7s1MCzue"
      },
      "source": [
        "(5) Write a program with python which could accept two parameter a and b to calculate and output the result of S, where \n",
        "\n",
        "$\\ S=3.14*(1+a/b)^3$ (4 points)\n",
        "\n"
      ]
    },
    {
      "cell_type": "code",
      "execution_count": null,
      "metadata": {
        "colab": {
          "base_uri": "https://localhost:8080/"
        },
        "id": "w79QilHXD3Mg",
        "outputId": "c73923fa-fd20-4aac-ce82-135e6fdc75f3"
      },
      "outputs": [
        {
          "output_type": "stream",
          "name": "stdout",
          "text": [
            "10.5975\n"
          ]
        }
      ],
      "source": [
        "# write your answer here\n",
        "def calculate_s(a, b):\n",
        "    S = 3.14 * (1 + a/b)**3\n",
        "    return S\n",
        "\n",
        "print(calculate_s(3, 6))\n",
        "\n"
      ]
    },
    {
      "cell_type": "markdown",
      "metadata": {
        "id": "xCa2bK9aD4Q3"
      },
      "source": [
        "(6) Write a Python program to concatenate following dictionaries to create a new one. (4 points)\n",
        "\n",
        "Sample Dictionary : dic1={1:10, 2:20}, dic2={3:30, 4:40}, dic3={5:50,6:60}, \n",
        "\n",
        "Expected Result : {1: 10, 2: 20, 3: 30, 4: 40, 5: 50, 6: 60}\n"
      ]
    },
    {
      "cell_type": "code",
      "execution_count": null,
      "metadata": {
        "colab": {
          "base_uri": "https://localhost:8080/"
        },
        "id": "_z4aLqAbEET1",
        "outputId": "32382fbf-9fe4-4609-c2b8-2831674f2e95"
      },
      "outputs": [
        {
          "output_type": "stream",
          "name": "stdout",
          "text": [
            "{1: 10, 2: 20, 3: 30, 4: 40, 5: 50, 6: 60}\n"
          ]
        }
      ],
      "source": [
        "# write your answer here\n",
        "def concat_dicts(d1, d2, d3):\n",
        "    result = {}\n",
        "    for d in [d1, d2, d3]:\n",
        "        for key, value in d.items():\n",
        "            result[key] = value\n",
        "    return result\n",
        "\n",
        "d1 = {1:10, 2:20}\n",
        "d2 = {3:30, 4:40}\n",
        "d3 = {5:50, 6:60}\n",
        "print(concat_dicts(d1, d2, d3))\n",
        "\n"
      ]
    },
    {
      "cell_type": "markdown",
      "metadata": {
        "id": "0v48Vqa7FrQh"
      },
      "source": [
        "(7) Write a Python program to check whether an element exists within a tuple. (4 points)"
      ]
    },
    {
      "cell_type": "code",
      "execution_count": null,
      "metadata": {
        "colab": {
          "base_uri": "https://localhost:8080/"
        },
        "id": "7WEmgq-DF2P1",
        "outputId": "cd6506bb-2f03-45fe-f972-3d0693702540"
      },
      "outputs": [
        {
          "output_type": "stream",
          "name": "stdout",
          "text": [
            "True\n",
            "False\n"
          ]
        }
      ],
      "source": [
        "# write your answer here\n",
        "def exists_in_tuple(tuple, element):\n",
        "    return element in tuple\n",
        "\n",
        "tuple = (1, 2, 3, 4, 5)\n",
        "print(exists_in_tuple(tuple, 5))\n",
        "print(exists_in_tuple(tuple, 6))\n",
        "\n"
      ]
    },
    {
      "cell_type": "markdown",
      "metadata": {
        "id": "vD5PYLMuGga_"
      },
      "source": [
        "(8) Write a Python program to find maximum and the minimum value in a set. (4 points)"
      ]
    },
    {
      "cell_type": "code",
      "execution_count": null,
      "metadata": {
        "colab": {
          "base_uri": "https://localhost:8080/"
        },
        "id": "t0D5kdJUGjjw",
        "outputId": "4c0b40b8-8733-468a-8b44-c9c01368be3d"
      },
      "outputs": [
        {
          "output_type": "stream",
          "name": "stdout",
          "text": [
            "(3, 55)\n"
          ]
        }
      ],
      "source": [
        "# write your answer here\n",
        "def min_max_val_set(s):\n",
        "    max_value = 0\n",
        "    min_value = 0\n",
        "    first = True\n",
        "    for value in s:\n",
        "        if first:\n",
        "            max_value = value\n",
        "            min_value = value\n",
        "            first = False\n",
        "        else:\n",
        "            if value > max_value:\n",
        "                max_value = value\n",
        "            if value < min_value:\n",
        "                min_value = value\n",
        "    return (min_value, max_value)\n",
        "\n",
        "s = {11, 22, 3, 4, 55}\n",
        "print(min_max_val_set(s))\n",
        "\n"
      ]
    },
    {
      "cell_type": "markdown",
      "metadata": {
        "id": "uHkd-y5VhVWC"
      },
      "source": [
        "(9) Write a Python program to randomly divide the students in this class into six groups for term projects, each group should have at least 4 students but no more than 6 students (including 6). Here is the students list: (4 points)\n",
        "\n",
        "studnet_list = ['ja0964','sa1198','sb1357','vb0218','sc1229','kg0569','kg0470','sg1297','bg0320','fh0141','jl1252','sk1386',\n",
        "           'ak0956','sk1390','sk1458','sk1313','ak0934','vm0377','nm0618','sm1640','sm1907','gn0108','pr0353','dr0609','ms1500','aos0040','ds0814', 'av0659','nv0234','hy0232']"
      ]
    },
    {
      "cell_type": "code",
      "execution_count": null,
      "metadata": {
        "colab": {
          "base_uri": "https://localhost:8080/"
        },
        "id": "3iGbmcOBhTwy",
        "outputId": "9a18794e-98e8-48c6-aaf6-0a16f9cbe428"
      },
      "outputs": [
        {
          "output_type": "stream",
          "name": "stdout",
          "text": [
            "Group 1\n",
            "['sk1386', 'nv0234', 'kg0470', 'sk1458', 'sk1390', 'fh0141']\n",
            "Group 2\n",
            "['kg0569', 'sk1313', 'sm1907', 'ja0964', 'pr0353', 'nm0618']\n",
            "Group 3\n",
            "['sc1229', 'hy0232', 'aos0040', 'dr0609', 'ak0934', 'bg0320']\n",
            "Group 4\n",
            "['ms1500', 'ds0814', 'sg1297', 'sm1640', 'ak0956', 'jl1252']\n",
            "Group 5\n",
            "['sa1198', 'av0659', 'gn0108', 'vm0377', 'sb1357', 'vb0218']\n"
          ]
        }
      ],
      "source": [
        "# write your answer here\n",
        "\n",
        "from random import randint\n",
        "\n",
        "studnet_list =  ['ja0964','sa1198','sb1357','vb0218','sc1229','kg0569','kg0470','sg1297','bg0320','fh0141','jl1252','sk1386', 'ak0956','sk1390','sk1458','sk1313','ak0934','vm0377','nm0618','sm1640','sm1907','gn0108','pr0353','dr0609','ms1500','aos0040','ds0814', 'av0659','nv0234','hy0232']\n",
        "\n",
        "Group=[[],[],[],[],[]]\n",
        "while len(studnet_list)>0:\n",
        "    fromPos=randint(0,len(studnet_list)-1)\n",
        "    toPos=randint(0,4)\n",
        "    while len(Group[toPos])>=6:\n",
        "        toPos=randint(0,4)\n",
        "    Group[toPos].append(studnet_list.pop(fromPos))\n",
        "for i in range(5):\n",
        "    while len(Group[i])<4:\n",
        "        stealPos=i\n",
        "        while stealPos==i:\n",
        "            stealPos=randint(0,4)\n",
        "        Group[i].append(Group[stealPos].pop())\n",
        "for i in range(5):\n",
        "    print(\"Group\",i+1)\n",
        "    print(Group[i])\n",
        "\n"
      ]
    },
    {
      "cell_type": "markdown",
      "metadata": {
        "id": "8VxfFwGgyC_a"
      },
      "source": [
        "(10) Write a Python program to find the duplicate elements in a given array of integers. Return -1 If there are no such elements. (4 points)"
      ]
    },
    {
      "cell_type": "code",
      "execution_count": null,
      "metadata": {
        "colab": {
          "base_uri": "https://localhost:8080/"
        },
        "id": "gxgoMVOmyC_a",
        "outputId": "610c7dcb-2925-439f-f1d6-63a4b0ea4ed6"
      },
      "outputs": [
        {
          "output_type": "stream",
          "name": "stdout",
          "text": [
            "[2, 3, 7, 8]\n"
          ]
        }
      ],
      "source": [
        "# write your answer here\n",
        "def find_duplicates(arr):\n",
        "    duplicates = []\n",
        "    for i in range(len(arr)):\n",
        "        if arr[i] in arr[i+1:]:\n",
        "            duplicates.append(arr[i])\n",
        "    if len(duplicates) == 0:\n",
        "        return -1\n",
        "    else:\n",
        "        return duplicates\n",
        "\n",
        "arr = [1, 2, 3, 4, 2, 5, 6, 7, 8, 9,3,7,8]\n",
        "result = find_duplicates(arr)\n",
        "print(result)\n",
        "\n"
      ]
    },
    {
      "cell_type": "markdown",
      "metadata": {
        "id": "K452qZq7yC_a"
      },
      "source": [
        "(11) Write a Python program to select all the Sundays of a specified year. (4 extra points)"
      ]
    },
    {
      "cell_type": "code",
      "execution_count": null,
      "metadata": {
        "colab": {
          "base_uri": "https://localhost:8080/"
        },
        "id": "ZsnoXbe7yC_a",
        "outputId": "5d49ae29-b782-4314-f697-f9f07c9aba12"
      },
      "outputs": [
        {
          "output_type": "stream",
          "name": "stdout",
          "text": [
            "2022-01-02\n",
            "2022-01-09\n",
            "2022-01-16\n",
            "2022-01-23\n",
            "2022-01-30\n",
            "2022-02-06\n",
            "2022-02-13\n",
            "2022-02-20\n",
            "2022-02-27\n",
            "2022-03-06\n",
            "2022-03-13\n",
            "2022-03-20\n",
            "2022-03-27\n",
            "2022-04-03\n",
            "2022-04-10\n",
            "2022-04-17\n",
            "2022-04-24\n",
            "2022-05-01\n",
            "2022-05-08\n",
            "2022-05-15\n",
            "2022-05-22\n",
            "2022-05-29\n",
            "2022-06-05\n",
            "2022-06-12\n",
            "2022-06-19\n",
            "2022-06-26\n",
            "2022-07-03\n",
            "2022-07-10\n",
            "2022-07-17\n",
            "2022-07-24\n",
            "2022-07-31\n",
            "2022-08-07\n",
            "2022-08-14\n",
            "2022-08-21\n",
            "2022-08-28\n",
            "2022-09-04\n",
            "2022-09-11\n",
            "2022-09-18\n",
            "2022-09-25\n",
            "2022-10-02\n",
            "2022-10-09\n",
            "2022-10-16\n",
            "2022-10-23\n",
            "2022-10-30\n",
            "2022-11-06\n",
            "2022-11-13\n",
            "2022-11-20\n",
            "2022-11-27\n",
            "2022-12-04\n",
            "2022-12-11\n",
            "2022-12-18\n",
            "2022-12-25\n"
          ]
        }
      ],
      "source": [
        "# write your answer here\n",
        "from datetime import date, timedelta\n",
        "\n",
        "def all_sundays(year):\n",
        "       dt = date(year, 1, 1)       \n",
        "       dt += timedelta(days = 6 - dt.weekday())  \n",
        "       while dt.year == year:\n",
        "          yield dt\n",
        "          dt += timedelta(days = 7)\n",
        "          \n",
        "for s in all_sundays(2022):\n",
        "   print(s)\n"
      ]
    }
  ],
  "metadata": {
    "colab": {
      "provenance": [],
      "include_colab_link": true
    },
    "kernelspec": {
      "display_name": "Python 3 (ipykernel)",
      "language": "python",
      "name": "python3"
    },
    "language_info": {
      "codemirror_mode": {
        "name": "ipython",
        "version": 3
      },
      "file_extension": ".py",
      "mimetype": "text/x-python",
      "name": "python",
      "nbconvert_exporter": "python",
      "pygments_lexer": "ipython3",
      "version": "3.9.12"
    }
  },
  "nbformat": 4,
  "nbformat_minor": 0
}