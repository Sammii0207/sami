{
  "cells": [
    {
      "cell_type": "markdown",
      "metadata": {
        "id": "view-in-github",
        "colab_type": "text"
      },
      "source": [
        "<a href=\"https://colab.research.google.com/github/Sammii0207/sami/blob/main/INFO5731_Assignment_One_fall2022_(1)_(2).ipynb\" target=\"_parent\"><img src=\"https://colab.research.google.com/assets/colab-badge.svg\" alt=\"Open In Colab\"/></a>"
      ]
    },
    {
      "cell_type": "markdown",
      "metadata": {
        "id": "Ryk8D1Q4Wsrp"
      },
      "source": [
        "# **INFO5731 Assignment One**"
      ]
    },
    {
      "cell_type": "markdown",
      "metadata": {
        "id": "90_NR8c5XGWc"
      },
      "source": [
        "# Question 1\n",
        "\n",
        "(20 points). Write a Python program to generate 12 random numbers between 1 and 100. Sort the list of numbers in ascending order and print it out. Sort the list of numbers in descending order and print it out. Calculate the average for the group and print it out."
      ]
    },
    {
      "cell_type": "code",
      "execution_count": null,
      "metadata": {
        "colab": {
          "base_uri": "https://localhost:8080/"
        },
        "id": "5QX6bJjGWXY9",
        "outputId": "746344c6-aa43-4699-d3f6-a920ee3ec133"
      },
      "outputs": [
        {
          "output_type": "stream",
          "name": "stdout",
          "text": [
            "Ascending order: [9, 19, 29, 30, 32, 44, 52, 62, 73, 77, 90, 94]\n",
            "Descending order: [94, 90, 77, 73, 62, 52, 44, 32, 30, 29, 19, 9]\n",
            "Average: 50.916666666666664\n"
          ]
        }
      ],
      "source": [
        "# Your code here\n",
        "import random\n",
        "\n",
        "numbers = [random.randint(1, 100) for i in range(12)]\n",
        "\n",
        "# Sort the list in ascending order\n",
        "for i in range(len(numbers)):\n",
        "    for j in range(i+1, len(numbers)):\n",
        "        if numbers[i] > numbers[j]:\n",
        "            numbers[i], numbers[j] = numbers[j], numbers[i]\n",
        "\n",
        "print(\"Ascending order:\", numbers)\n",
        "\n",
        "# Sort the list in descending order\n",
        "for i in range(len(numbers)):\n",
        "    for j in range(i+1, len(numbers)):\n",
        "        if numbers[i] < numbers[j]:\n",
        "            numbers[i], numbers[j] = numbers[j], numbers[i]\n",
        "\n",
        "print(\"Descending order:\", numbers)\n",
        "\n",
        "# Calculate the average\n",
        "sum_of_numbers = sum(numbers)\n",
        "average = sum_of_numbers / len(numbers)\n",
        "\n",
        "print(\"Average:\", average)\n"
      ]
    },
    {
      "cell_type": "markdown",
      "metadata": {
        "id": "1F_PZdH9Sh49"
      },
      "source": [
        "# Question 2\n",
        "(25 points). Write a program that will do the following string formatting tasks:\n",
        "\n",
        "(1) Ask the user to enter two sentences.\n",
        "\n",
        "(2) Make each sentence into a list. Each element in the list should correspond to a word in the sentence. For example, if the sentence is \"Alas! Am I alive? This is my first python program\", the program should print out ['Alas, '!', 'Am', 'I', 'alive, '?', 'This', 'is', 'my', 'first', 'python', 'program'].\n",
        "\n",
        "(3) Compare the two sentences. Print out a list of words that occur in both sentences.\n",
        "\n",
        "(4) Remove any punctuation from the sentence and print it back out. It should remove at least the following characters, but it can remove more: period(“.”), comma (“,”), semicolon (“;”), and colon (“:”)\n",
        "\n",
        "(5) Count the number of vowels in the sentences. Print out each vowel and the number of times it appears in the sentences, such as: a:2, e:1, i:0, etc"
      ]
    },
    {
      "cell_type": "code",
      "execution_count": null,
      "metadata": {
        "colab": {
          "base_uri": "https://localhost:8080/"
        },
        "id": "Y0oOSlsOS0cq",
        "outputId": "ed178d25-2ff6-409a-e1a5-018b934f7e1a"
      },
      "outputs": [
        {
          "output_type": "stream",
          "name": "stdout",
          "text": [
            "Enter the first sentence: Alas!, Am I Alive?\n",
            "Enter the second sentence: Alas!, This is my First Python Code\n",
            "The words and special characters in the first sentence are: ['Alas', '!', ',', 'Am', 'I', 'Alive', '?']\n",
            "The words and special characters in the second sentence are: ['Alas', '!', ',', 'This', 'is', 'my', 'First', 'Python', 'Code']\n",
            "The common words in both sentences are: ['Alas']\n",
            "The first sentence without punctuation: Alas Am I Alive\n",
            "The second sentence without punctuation: Alas This is my First Python Code\n",
            "Vowel counts in the first sentence: {'a': 4, 'e': 1, 'i': 2, 'o': 0, 'u': 0}\n",
            "Vowel counts in the second sentence: {'a': 2, 'e': 1, 'i': 3, 'o': 2, 'u': 0}\n"
          ]
        }
      ],
      "source": [
        "# Your code here\n",
        "import string\n",
        "sentence1 = input(\"Enter the first sentence: \")\n",
        "sentence2 = input(\"Enter the second sentence: \")\n",
        "\n",
        "# (2) Make each sentence into a list\n",
        "sentence1_list = []\n",
        "sentence2_list = []\n",
        "\n",
        "current_word = \"\"\n",
        "for char in sentence1:\n",
        "    if char in string.punctuation:\n",
        "        if current_word:\n",
        "            sentence1_list.append(current_word)\n",
        "        sentence1_list.append(char)\n",
        "        current_word = \"\"\n",
        "    elif char == \" \":\n",
        "        if current_word:\n",
        "            sentence1_list.append(current_word)\n",
        "        current_word = \"\"\n",
        "    else:\n",
        "        current_word += char\n",
        "\n",
        "if current_word:\n",
        "    sentence1_list.append(current_word)\n",
        "\n",
        "current_word = \"\"\n",
        "for char in sentence2:\n",
        "    if char in string.punctuation:\n",
        "        if current_word:\n",
        "            sentence2_list.append(current_word)\n",
        "        sentence2_list.append(char)\n",
        "        current_word = \"\"\n",
        "    elif char == \" \":\n",
        "        if current_word:\n",
        "            sentence2_list.append(current_word)\n",
        "        current_word = \"\"\n",
        "    else:\n",
        "        current_word += char\n",
        "\n",
        "if current_word:\n",
        "    sentence2_list.append(current_word)\n",
        "\n",
        "print(\"The words and special characters in the first sentence are:\", sentence1_list)\n",
        "print(\"The words and special characters in the second sentence are:\", sentence2_list)\n",
        "\n",
        "# (3) Compare the two sentences and print the common words\n",
        "common_words = []\n",
        "for word in sentence1_list:\n",
        "    if word.strip(string.punctuation) in sentence2_list:\n",
        "        common_word = word.strip(string.punctuation)\n",
        "        if common_word not in common_words:\n",
        "            common_words.append(common_word)\n",
        "\n",
        "print(\"The common words in both sentences are:\", common_words)\n",
        "# (4) Remove punctuation from sentences and print the sentences without punctuation\n",
        "punctuation = string.punctuation\n",
        "\n",
        "sentence1_no_punct = \"\"\n",
        "for char in sentence1:\n",
        "    if char not in punctuation:\n",
        "        sentence1_no_punct += char\n",
        "\n",
        "sentence2_no_punct = \"\"\n",
        "for char in sentence2:\n",
        "    if char not in punctuation:\n",
        "        sentence2_no_punct += char\n",
        "\n",
        "print(\"The first sentence without punctuation:\", sentence1_no_punct)\n",
        "print(\"The second sentence without punctuation:\", sentence2_no_punct)\n",
        "\n",
        "# (5) Count the number of vowels in the sentences\n",
        "vowels = \"aeiouAEIOU\"\n",
        "sentence1_vowels = {}\n",
        "sentence2_vowels = {}\n",
        "for char in vowels:\n",
        "    sentence1_vowels[char.lower()] = sentence1_no_punct.count(char) + sentence1_no_punct.count(char.lower())\n",
        "    sentence2_vowels[char.lower()] = sentence2_no_punct.count(char) + sentence2_no_punct.count(char.lower())\n",
        "\n",
        "print(\"Vowel counts in the first sentence:\", sentence1_vowels)\n",
        "print(\"Vowel counts in the second sentence:\", sentence2_vowels)\n",
        "\n",
        "\n"
      ]
    },
    {
      "cell_type": "markdown",
      "metadata": {
        "id": "CmFoI4jDS9nx"
      },
      "source": [
        "# Question 3 \n",
        "\n",
        "(15 points). The formula that describes the volume V of a sphere with radius r is the following:\n",
        "\n",
        "$ V=\\frac{4}{3}\\ast\\ \\pi\\ast\\ r^3 $\n",
        "\n",
        "Write a program to calculate the value of V when r is in the range of 1–10. Output the result in the following format:\n",
        "\n",
        "\tr\tV\n",
        "\t1\t…\n",
        "\t2\t…\n",
        "\t3\t…\n"
      ]
    },
    {
      "cell_type": "code",
      "execution_count": null,
      "metadata": {
        "colab": {
          "base_uri": "https://localhost:8080/"
        },
        "id": "pEyqeioAT95b",
        "outputId": "753181a6-3ddf-4910-8465-0874e90c4818"
      },
      "outputs": [
        {
          "output_type": "stream",
          "name": "stdout",
          "text": [
            "r    V\n",
            " 1    4.19\n",
            " 2    33.51\n",
            " 3    113.10\n",
            " 4    268.08\n",
            " 5    523.60\n",
            " 6    904.78\n",
            " 7    1436.76\n",
            " 8    2144.66\n",
            " 9    3053.63\n",
            "10    4188.79\n"
          ]
        }
      ],
      "source": [
        "# Your code here\n",
        "import math\n",
        "\n",
        "print(\"r    V\")\n",
        "for r in range(1, 11):\n",
        "    V = (4 / 3) * math.pi * (r ** 3)\n",
        "    print(f\"{r:2d}    {V:.2f}\")\n",
        "\n"
      ]
    },
    {
      "cell_type": "markdown",
      "metadata": {
        "id": "z3tBE7E-Xn5X"
      },
      "source": [
        "# Question 4\n",
        "\n",
        "(40 points). In the field of Data Science, data is often formatted as a comma-delimited (CSV) file, where each line in a file corresponds to a field's value. Refer to Chapter 9 (p. 106) for more information on comma-delimited files. To answer this question, you will need to download the file [Assignment1_denton_housing.csv](https://raw.githubusercontent.com/unt-iialab/info5731-spring2022/main/assignments/Assignment1_denton_housing.csv) included with this assignment. The file [Assignment1_denton_housing.csv](https://raw.githubusercontent.com/unt-iialab/info5731-spring2022/main/assignments/Assignment1_denton_housing.csv) contains statistics about housing in the city of Denton from 2008 to 2014. Write a program to implement the following questions.\n",
        "\n",
        "(1) (10 pts) Calculate the difference in the number of Occupied Housing Units from year to year and print it. The difference must be calculated for the consecutive years such as 2008-2009, 2009-2010 etc. Finally, print the values in the ascending order.\n",
        "\n",
        "(2) (10 pts) For all the years, calculate the percentage of housing units which are vacant an occupied. Print the results in the following format:\n",
        "\n",
        "Year Vacant Housing Units Occupied Housing Units\n",
        "\n",
        "    2008  30%   70%                          \n",
        "\t2009 ----- -----\n",
        "\t2010 ----- -----\n",
        "    2011 ----- -----\n",
        "\t2012 ----- -----\n",
        "    2013 ----- -----\n",
        "\t2014 ----- -----\n",
        "  \n",
        "  \n",
        "\n",
        "(3) (10 pts) Calculate and print the valued and years in which the highest number of housing units were vacant and occupied. Print the results in the following format:  \n",
        "\n",
        "                              Year\tValue\n",
        "\tVacant Housing Units\t  -----   -----\n",
        "\tOccupied Housing Units\t-----   -----\n",
        "\n",
        "(4) (10 pts) Calculate the harmonic mean of the total housing units and print it out. You can find the information about harmonic mean here: https://ncalculators.com/statistics/harmonic-mean-calculator.htm"
      ]
    },
    {
      "cell_type": "code",
      "execution_count": null,
      "metadata": {
        "colab": {
          "base_uri": "https://localhost:8080/",
          "height": 73
        },
        "id": "lqGYuHBhcsRH",
        "outputId": "d9558171-3388-4a35-ea76-cbffdce62272"
      },
      "outputs": [
        {
          "output_type": "display_data",
          "data": {
            "text/plain": [
              "<IPython.core.display.HTML object>"
            ],
            "text/html": [
              "\n",
              "     <input type=\"file\" id=\"files-a6c886a7-ed12-4514-8028-e48f3a2723a8\" name=\"files[]\" multiple disabled\n",
              "        style=\"border:none\" />\n",
              "     <output id=\"result-a6c886a7-ed12-4514-8028-e48f3a2723a8\">\n",
              "      Upload widget is only available when the cell has been executed in the\n",
              "      current browser session. Please rerun this cell to enable.\n",
              "      </output>\n",
              "      <script>// Copyright 2017 Google LLC\n",
              "//\n",
              "// Licensed under the Apache License, Version 2.0 (the \"License\");\n",
              "// you may not use this file except in compliance with the License.\n",
              "// You may obtain a copy of the License at\n",
              "//\n",
              "//      http://www.apache.org/licenses/LICENSE-2.0\n",
              "//\n",
              "// Unless required by applicable law or agreed to in writing, software\n",
              "// distributed under the License is distributed on an \"AS IS\" BASIS,\n",
              "// WITHOUT WARRANTIES OR CONDITIONS OF ANY KIND, either express or implied.\n",
              "// See the License for the specific language governing permissions and\n",
              "// limitations under the License.\n",
              "\n",
              "/**\n",
              " * @fileoverview Helpers for google.colab Python module.\n",
              " */\n",
              "(function(scope) {\n",
              "function span(text, styleAttributes = {}) {\n",
              "  const element = document.createElement('span');\n",
              "  element.textContent = text;\n",
              "  for (const key of Object.keys(styleAttributes)) {\n",
              "    element.style[key] = styleAttributes[key];\n",
              "  }\n",
              "  return element;\n",
              "}\n",
              "\n",
              "// Max number of bytes which will be uploaded at a time.\n",
              "const MAX_PAYLOAD_SIZE = 100 * 1024;\n",
              "\n",
              "function _uploadFiles(inputId, outputId) {\n",
              "  const steps = uploadFilesStep(inputId, outputId);\n",
              "  const outputElement = document.getElementById(outputId);\n",
              "  // Cache steps on the outputElement to make it available for the next call\n",
              "  // to uploadFilesContinue from Python.\n",
              "  outputElement.steps = steps;\n",
              "\n",
              "  return _uploadFilesContinue(outputId);\n",
              "}\n",
              "\n",
              "// This is roughly an async generator (not supported in the browser yet),\n",
              "// where there are multiple asynchronous steps and the Python side is going\n",
              "// to poll for completion of each step.\n",
              "// This uses a Promise to block the python side on completion of each step,\n",
              "// then passes the result of the previous step as the input to the next step.\n",
              "function _uploadFilesContinue(outputId) {\n",
              "  const outputElement = document.getElementById(outputId);\n",
              "  const steps = outputElement.steps;\n",
              "\n",
              "  const next = steps.next(outputElement.lastPromiseValue);\n",
              "  return Promise.resolve(next.value.promise).then((value) => {\n",
              "    // Cache the last promise value to make it available to the next\n",
              "    // step of the generator.\n",
              "    outputElement.lastPromiseValue = value;\n",
              "    return next.value.response;\n",
              "  });\n",
              "}\n",
              "\n",
              "/**\n",
              " * Generator function which is called between each async step of the upload\n",
              " * process.\n",
              " * @param {string} inputId Element ID of the input file picker element.\n",
              " * @param {string} outputId Element ID of the output display.\n",
              " * @return {!Iterable<!Object>} Iterable of next steps.\n",
              " */\n",
              "function* uploadFilesStep(inputId, outputId) {\n",
              "  const inputElement = document.getElementById(inputId);\n",
              "  inputElement.disabled = false;\n",
              "\n",
              "  const outputElement = document.getElementById(outputId);\n",
              "  outputElement.innerHTML = '';\n",
              "\n",
              "  const pickedPromise = new Promise((resolve) => {\n",
              "    inputElement.addEventListener('change', (e) => {\n",
              "      resolve(e.target.files);\n",
              "    });\n",
              "  });\n",
              "\n",
              "  const cancel = document.createElement('button');\n",
              "  inputElement.parentElement.appendChild(cancel);\n",
              "  cancel.textContent = 'Cancel upload';\n",
              "  const cancelPromise = new Promise((resolve) => {\n",
              "    cancel.onclick = () => {\n",
              "      resolve(null);\n",
              "    };\n",
              "  });\n",
              "\n",
              "  // Wait for the user to pick the files.\n",
              "  const files = yield {\n",
              "    promise: Promise.race([pickedPromise, cancelPromise]),\n",
              "    response: {\n",
              "      action: 'starting',\n",
              "    }\n",
              "  };\n",
              "\n",
              "  cancel.remove();\n",
              "\n",
              "  // Disable the input element since further picks are not allowed.\n",
              "  inputElement.disabled = true;\n",
              "\n",
              "  if (!files) {\n",
              "    return {\n",
              "      response: {\n",
              "        action: 'complete',\n",
              "      }\n",
              "    };\n",
              "  }\n",
              "\n",
              "  for (const file of files) {\n",
              "    const li = document.createElement('li');\n",
              "    li.append(span(file.name, {fontWeight: 'bold'}));\n",
              "    li.append(span(\n",
              "        `(${file.type || 'n/a'}) - ${file.size} bytes, ` +\n",
              "        `last modified: ${\n",
              "            file.lastModifiedDate ? file.lastModifiedDate.toLocaleDateString() :\n",
              "                                    'n/a'} - `));\n",
              "    const percent = span('0% done');\n",
              "    li.appendChild(percent);\n",
              "\n",
              "    outputElement.appendChild(li);\n",
              "\n",
              "    const fileDataPromise = new Promise((resolve) => {\n",
              "      const reader = new FileReader();\n",
              "      reader.onload = (e) => {\n",
              "        resolve(e.target.result);\n",
              "      };\n",
              "      reader.readAsArrayBuffer(file);\n",
              "    });\n",
              "    // Wait for the data to be ready.\n",
              "    let fileData = yield {\n",
              "      promise: fileDataPromise,\n",
              "      response: {\n",
              "        action: 'continue',\n",
              "      }\n",
              "    };\n",
              "\n",
              "    // Use a chunked sending to avoid message size limits. See b/62115660.\n",
              "    let position = 0;\n",
              "    do {\n",
              "      const length = Math.min(fileData.byteLength - position, MAX_PAYLOAD_SIZE);\n",
              "      const chunk = new Uint8Array(fileData, position, length);\n",
              "      position += length;\n",
              "\n",
              "      const base64 = btoa(String.fromCharCode.apply(null, chunk));\n",
              "      yield {\n",
              "        response: {\n",
              "          action: 'append',\n",
              "          file: file.name,\n",
              "          data: base64,\n",
              "        },\n",
              "      };\n",
              "\n",
              "      let percentDone = fileData.byteLength === 0 ?\n",
              "          100 :\n",
              "          Math.round((position / fileData.byteLength) * 100);\n",
              "      percent.textContent = `${percentDone}% done`;\n",
              "\n",
              "    } while (position < fileData.byteLength);\n",
              "  }\n",
              "\n",
              "  // All done.\n",
              "  yield {\n",
              "    response: {\n",
              "      action: 'complete',\n",
              "    }\n",
              "  };\n",
              "}\n",
              "\n",
              "scope.google = scope.google || {};\n",
              "scope.google.colab = scope.google.colab || {};\n",
              "scope.google.colab._files = {\n",
              "  _uploadFiles,\n",
              "  _uploadFilesContinue,\n",
              "};\n",
              "})(self);\n",
              "</script> "
            ]
          },
          "metadata": {}
        },
        {
          "output_type": "stream",
          "name": "stdout",
          "text": [
            "Saving Assignment1_denton_housing.csv to Assignment1_denton_housing (2).csv\n"
          ]
        }
      ],
      "source": [
        "#Upload the data set file Here\n",
        "import io\n",
        "import pandas as pd\n",
        "from google.colab import files\n",
        "uploaded = files.upload()\n",
        "\n",
        "\n",
        "\n",
        "\n"
      ]
    },
    {
      "cell_type": "code",
      "source": [
        "# 1. Code for difference between no of housing units occupied.\n",
        "df = pd.read_csv(io.BytesIO(uploaded['Assignment1_denton_housing.csv']))\n",
        "df = df[df[\"title_field\"] == \"Occupied Housing Units\"]\n",
        "df = df.sort_values(\"year\")\n",
        "df[\"result\"] = df[\"value\"].diff()\n",
        "df = df.reset_index(drop=True)\n",
        "df = df.sort_values(\"result\")\n",
        "print(df[[\"year\", \"result\"]])"
      ],
      "metadata": {
        "colab": {
          "base_uri": "https://localhost:8080/"
        },
        "id": "XQVaGYPFDDwd",
        "outputId": "cd5ac663-0387-4683-c5c5-04f4747694dc"
      },
      "execution_count": null,
      "outputs": [
        {
          "output_type": "stream",
          "name": "stdout",
          "text": [
            "   year  result\n",
            "1  2009  -795.0\n",
            "3  2011  -303.0\n",
            "4  2012  1404.0\n",
            "5  2013  1565.0\n",
            "6  2014  2622.0\n",
            "2  2010  5091.0\n",
            "0  2008     NaN\n"
          ]
        }
      ]
    },
    {
      "cell_type": "code",
      "source": [
        "# 2. Vacant and occupied Percentage\n",
        "from IPython.display import display\n",
        "df = pd.read_csv(io.BytesIO(uploaded['Assignment1_denton_housing.csv']))\n",
        "df = df[df['title_field'].isin(['Total Housing Units', 'Vacant Housing Units', 'Occupied Housing Units'])]\n",
        "\n",
        "df = df.pivot(index='year', columns='title_field', values='value')\n",
        "\n",
        "df['Vacant Housing Units %'] = df['Vacant Housing Units'] / df['Total Housing Units'] * 100\n",
        "df['Occupied Housing Units %'] = df['Occupied Housing Units'] / df['Total Housing Units'] * 100\n",
        "\n",
        "display(df[['Vacant Housing Units %', 'Occupied Housing Units %']])"
      ],
      "metadata": {
        "colab": {
          "base_uri": "https://localhost:8080/",
          "height": 300
        },
        "id": "CNrTWyI4RMZ2",
        "outputId": "9bf1a5c5-6cae-4f37-d6ef-f9d9ce71206f"
      },
      "execution_count": null,
      "outputs": [
        {
          "output_type": "display_data",
          "data": {
            "text/plain": [
              "title_field  Vacant Housing Units %  Occupied Housing Units %\n",
              "year                                                         \n",
              "2008                      10.882653                 89.117347\n",
              "2009                       9.071116                 90.928884\n",
              "2010                       8.142556                 91.857444\n",
              "2011                       9.379522                 90.620478\n",
              "2012                       6.677600                 93.322400\n",
              "2013                       8.801788                 91.198212\n",
              "2014                       5.730111                 94.269889"
            ],
            "text/html": [
              "\n",
              "  <div id=\"df-0ca5a4ec-2b76-409c-8afc-7861a1cc0843\">\n",
              "    <div class=\"colab-df-container\">\n",
              "      <div>\n",
              "<style scoped>\n",
              "    .dataframe tbody tr th:only-of-type {\n",
              "        vertical-align: middle;\n",
              "    }\n",
              "\n",
              "    .dataframe tbody tr th {\n",
              "        vertical-align: top;\n",
              "    }\n",
              "\n",
              "    .dataframe thead th {\n",
              "        text-align: right;\n",
              "    }\n",
              "</style>\n",
              "<table border=\"1\" class=\"dataframe\">\n",
              "  <thead>\n",
              "    <tr style=\"text-align: right;\">\n",
              "      <th>title_field</th>\n",
              "      <th>Vacant Housing Units %</th>\n",
              "      <th>Occupied Housing Units %</th>\n",
              "    </tr>\n",
              "    <tr>\n",
              "      <th>year</th>\n",
              "      <th></th>\n",
              "      <th></th>\n",
              "    </tr>\n",
              "  </thead>\n",
              "  <tbody>\n",
              "    <tr>\n",
              "      <th>2008</th>\n",
              "      <td>10.882653</td>\n",
              "      <td>89.117347</td>\n",
              "    </tr>\n",
              "    <tr>\n",
              "      <th>2009</th>\n",
              "      <td>9.071116</td>\n",
              "      <td>90.928884</td>\n",
              "    </tr>\n",
              "    <tr>\n",
              "      <th>2010</th>\n",
              "      <td>8.142556</td>\n",
              "      <td>91.857444</td>\n",
              "    </tr>\n",
              "    <tr>\n",
              "      <th>2011</th>\n",
              "      <td>9.379522</td>\n",
              "      <td>90.620478</td>\n",
              "    </tr>\n",
              "    <tr>\n",
              "      <th>2012</th>\n",
              "      <td>6.677600</td>\n",
              "      <td>93.322400</td>\n",
              "    </tr>\n",
              "    <tr>\n",
              "      <th>2013</th>\n",
              "      <td>8.801788</td>\n",
              "      <td>91.198212</td>\n",
              "    </tr>\n",
              "    <tr>\n",
              "      <th>2014</th>\n",
              "      <td>5.730111</td>\n",
              "      <td>94.269889</td>\n",
              "    </tr>\n",
              "  </tbody>\n",
              "</table>\n",
              "</div>\n",
              "      <button class=\"colab-df-convert\" onclick=\"convertToInteractive('df-0ca5a4ec-2b76-409c-8afc-7861a1cc0843')\"\n",
              "              title=\"Convert this dataframe to an interactive table.\"\n",
              "              style=\"display:none;\">\n",
              "        \n",
              "  <svg xmlns=\"http://www.w3.org/2000/svg\" height=\"24px\"viewBox=\"0 0 24 24\"\n",
              "       width=\"24px\">\n",
              "    <path d=\"M0 0h24v24H0V0z\" fill=\"none\"/>\n",
              "    <path d=\"M18.56 5.44l.94 2.06.94-2.06 2.06-.94-2.06-.94-.94-2.06-.94 2.06-2.06.94zm-11 1L8.5 8.5l.94-2.06 2.06-.94-2.06-.94L8.5 2.5l-.94 2.06-2.06.94zm10 10l.94 2.06.94-2.06 2.06-.94-2.06-.94-.94-2.06-.94 2.06-2.06.94z\"/><path d=\"M17.41 7.96l-1.37-1.37c-.4-.4-.92-.59-1.43-.59-.52 0-1.04.2-1.43.59L10.3 9.45l-7.72 7.72c-.78.78-.78 2.05 0 2.83L4 21.41c.39.39.9.59 1.41.59.51 0 1.02-.2 1.41-.59l7.78-7.78 2.81-2.81c.8-.78.8-2.07 0-2.86zM5.41 20L4 18.59l7.72-7.72 1.47 1.35L5.41 20z\"/>\n",
              "  </svg>\n",
              "      </button>\n",
              "      \n",
              "  <style>\n",
              "    .colab-df-container {\n",
              "      display:flex;\n",
              "      flex-wrap:wrap;\n",
              "      gap: 12px;\n",
              "    }\n",
              "\n",
              "    .colab-df-convert {\n",
              "      background-color: #E8F0FE;\n",
              "      border: none;\n",
              "      border-radius: 50%;\n",
              "      cursor: pointer;\n",
              "      display: none;\n",
              "      fill: #1967D2;\n",
              "      height: 32px;\n",
              "      padding: 0 0 0 0;\n",
              "      width: 32px;\n",
              "    }\n",
              "\n",
              "    .colab-df-convert:hover {\n",
              "      background-color: #E2EBFA;\n",
              "      box-shadow: 0px 1px 2px rgba(60, 64, 67, 0.3), 0px 1px 3px 1px rgba(60, 64, 67, 0.15);\n",
              "      fill: #174EA6;\n",
              "    }\n",
              "\n",
              "    [theme=dark] .colab-df-convert {\n",
              "      background-color: #3B4455;\n",
              "      fill: #D2E3FC;\n",
              "    }\n",
              "\n",
              "    [theme=dark] .colab-df-convert:hover {\n",
              "      background-color: #434B5C;\n",
              "      box-shadow: 0px 1px 3px 1px rgba(0, 0, 0, 0.15);\n",
              "      filter: drop-shadow(0px 1px 2px rgba(0, 0, 0, 0.3));\n",
              "      fill: #FFFFFF;\n",
              "    }\n",
              "  </style>\n",
              "\n",
              "      <script>\n",
              "        const buttonEl =\n",
              "          document.querySelector('#df-0ca5a4ec-2b76-409c-8afc-7861a1cc0843 button.colab-df-convert');\n",
              "        buttonEl.style.display =\n",
              "          google.colab.kernel.accessAllowed ? 'block' : 'none';\n",
              "\n",
              "        async function convertToInteractive(key) {\n",
              "          const element = document.querySelector('#df-0ca5a4ec-2b76-409c-8afc-7861a1cc0843');\n",
              "          const dataTable =\n",
              "            await google.colab.kernel.invokeFunction('convertToInteractive',\n",
              "                                                     [key], {});\n",
              "          if (!dataTable) return;\n",
              "\n",
              "          const docLinkHtml = 'Like what you see? Visit the ' +\n",
              "            '<a target=\"_blank\" href=https://colab.research.google.com/notebooks/data_table.ipynb>data table notebook</a>'\n",
              "            + ' to learn more about interactive tables.';\n",
              "          element.innerHTML = '';\n",
              "          dataTable['output_type'] = 'display_data';\n",
              "          await google.colab.output.renderOutput(dataTable, element);\n",
              "          const docLink = document.createElement('div');\n",
              "          docLink.innerHTML = docLinkHtml;\n",
              "          element.appendChild(docLink);\n",
              "        }\n",
              "      </script>\n",
              "    </div>\n",
              "  </div>\n",
              "  "
            ]
          },
          "metadata": {}
        }
      ]
    },
    {
      "cell_type": "code",
      "source": [
        "# 3. Highest number of housing units that are vacant and occupied\n",
        "df = pd.read_csv(io.BytesIO(uploaded['Assignment1_denton_housing.csv']))\n",
        "df = df[df['title_field'].isin(['Vacant Housing Units', 'Occupied Housing Units'])]\n",
        "\n",
        "df = df.pivot(index='year', columns='title_field', values='value')\n",
        "\n",
        "max_vacant = df['Vacant Housing Units'].idxmax(), df['Vacant Housing Units'].max()\n",
        "max_occupied = df['Occupied Housing Units'].idxmax(), df['Occupied Housing Units'].max()\n",
        "\n",
        "print(f\"Year in which the highest number of housing units were vacant is: {max_vacant[0]} ({max_vacant[1]})\")\n",
        "print(f\"Year in which the highest number of housing units were occupied is: {max_occupied[0]} ({max_occupied[1]})\")"
      ],
      "metadata": {
        "colab": {
          "base_uri": "https://localhost:8080/"
        },
        "id": "wTRSd_tUTQN_",
        "outputId": "226f40fa-6ab7-4573-c6eb-2060543e0843"
      },
      "execution_count": null,
      "outputs": [
        {
          "output_type": "stream",
          "name": "stdout",
          "text": [
            "Year in which the highest number of housing units were vacant: 2008 (4483)\n",
            "Year in which the highest number of housing units were occupied: 2014 (46295)\n"
          ]
        }
      ]
    },
    {
      "cell_type": "code",
      "source": [
        "# Harmonic Mean of total Housing Units\n",
        "df = pd.read_csv(io.BytesIO(uploaded['Assignment1_denton_housing.csv']))\n",
        "total_housing_units = df[df[\"title_field\"] == \"Total Housing Units\"][\"value\"].values\n",
        "\n",
        "n = len(total_housing_units)\n",
        "sum_of_inverses = sum([1/x for x in total_housing_units])\n",
        "harmonic_mean = n / sum_of_inverses\n",
        "\n",
        "print(\"Harmonic mean of total housing units:\", harmonic_mean)"
      ],
      "metadata": {
        "colab": {
          "base_uri": "https://localhost:8080/"
        },
        "id": "jvbr22WYT9TC",
        "outputId": "888764c9-f154-4d1d-f3b0-8cc6600cab3d"
      },
      "execution_count": null,
      "outputs": [
        {
          "output_type": "stream",
          "name": "stdout",
          "text": [
            "Harmonic mean of total housing units: 44398.28543969185\n"
          ]
        }
      ]
    }
  ],
  "metadata": {
    "colab": {
      "provenance": [],
      "include_colab_link": true
    },
    "kernelspec": {
      "display_name": "Python 3 (ipykernel)",
      "language": "python",
      "name": "python3"
    },
    "language_info": {
      "codemirror_mode": {
        "name": "ipython",
        "version": 3
      },
      "file_extension": ".py",
      "mimetype": "text/x-python",
      "name": "python",
      "nbconvert_exporter": "python",
      "pygments_lexer": "ipython3",
      "version": "3.9.12"
    }
  },
  "nbformat": 4,
  "nbformat_minor": 0
}