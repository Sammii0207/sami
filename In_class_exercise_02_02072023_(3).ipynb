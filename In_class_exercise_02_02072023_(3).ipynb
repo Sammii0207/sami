{
  "cells": [
    {
      "cell_type": "markdown",
      "metadata": {
        "id": "view-in-github",
        "colab_type": "text"
      },
      "source": [
        "<a href=\"https://colab.research.google.com/github/Sammii0207/sami/blob/main/In_class_exercise_02_02072023_(3).ipynb\" target=\"_parent\"><img src=\"https://colab.research.google.com/assets/colab-badge.svg\" alt=\"Open In Colab\"/></a>"
      ]
    },
    {
      "cell_type": "markdown",
      "metadata": {
        "id": "uxV9tGg2AB4V"
      },
      "source": [
        "## The second In-class-exercise (02/07/2023, 40 points in total)"
      ]
    },
    {
      "cell_type": "markdown",
      "metadata": {
        "id": "VWOHtDLYAB4X"
      },
      "source": [
        "The purpose of this exercise is to understand users' information needs, then collect data from different sources for analysis."
      ]
    },
    {
      "cell_type": "markdown",
      "metadata": {
        "id": "sHNbxW8uAB4Y"
      },
      "source": [
        "Question 1 (10 points): Describe an interesting research question (or practical question) you have in mind, what kind of data should be collected to answer the question(s)? How many data needed for the analysis? The detail steps for collecting and save the data. "
      ]
    },
    {
      "cell_type": "code",
      "execution_count": null,
      "metadata": {
        "id": "-bzahdWRAB4Z"
      },
      "outputs": [],
      "source": [
        "# Your answer here (no code for this question, write down your answer as detail as possible for the above questions):\n",
        "'''\n",
        "Please write you answer here:\n",
        "Research Question: What social, economic, and Personal factors influence student performance in exams.\n",
        "\n",
        "Data to be collected:\n",
        "The data to be collected would include variables such as gender of the student, race, the level of education of the parent, \n",
        "type of lunch offered to the students, test preparation course,  and test scores in mathematics, reading, and \n",
        "writing of the students.\n",
        "\n",
        "Steps for collecting and saving data:\n",
        "1. Identify the students to be included in the analysis. \n",
        "2. Gather the relevant data on the identified students, such as the gender of students enrolled in advanced courses,\n",
        "average test scores in subjects such as mathematics,reading, and writing, level of education attained by parents,race,\n",
        "type of lunch offered. \n",
        "3. Save the collected data into a secure database. \n",
        "4. Analyze the collected data to determine the correlations between the number of students enrolled in advanced \n",
        "courses and the other data points. \n",
        "5. Create a report summarizing the results of the analysis.\n",
        "\n",
        "'''"
      ]
    },
    {
      "cell_type": "markdown",
      "metadata": {
        "id": "QYE6KwuRAB4a"
      },
      "source": [
        "Question 2 (10 points): Write python code to collect 1000 data samples you discussed above."
      ]
    },
    {
      "cell_type": "code",
      "execution_count": null,
      "metadata": {
        "id": "BuE4aLpIAB4a",
        "outputId": "81ce49b3-9a84-4a54-b303-b9aabf75a6e9"
      },
      "outputs": [
        {
          "data": {
            "text/html": [
              "<div>\n",
              "<style scoped>\n",
              "    .dataframe tbody tr th:only-of-type {\n",
              "        vertical-align: middle;\n",
              "    }\n",
              "\n",
              "    .dataframe tbody tr th {\n",
              "        vertical-align: top;\n",
              "    }\n",
              "\n",
              "    .dataframe thead th {\n",
              "        text-align: right;\n",
              "    }\n",
              "</style>\n",
              "<table border=\"1\" class=\"dataframe\">\n",
              "  <thead>\n",
              "    <tr style=\"text-align: right;\">\n",
              "      <th></th>\n",
              "      <th>gender</th>\n",
              "      <th>race/ethnicity</th>\n",
              "      <th>parental level of education</th>\n",
              "      <th>lunch</th>\n",
              "      <th>test preparation course</th>\n",
              "      <th>math score</th>\n",
              "      <th>reading score</th>\n",
              "      <th>writing score</th>\n",
              "    </tr>\n",
              "  </thead>\n",
              "  <tbody>\n",
              "    <tr>\n",
              "      <th>0</th>\n",
              "      <td>female</td>\n",
              "      <td>group B</td>\n",
              "      <td>bachelor's degree</td>\n",
              "      <td>standard</td>\n",
              "      <td>none</td>\n",
              "      <td>72</td>\n",
              "      <td>72</td>\n",
              "      <td>74</td>\n",
              "    </tr>\n",
              "    <tr>\n",
              "      <th>1</th>\n",
              "      <td>female</td>\n",
              "      <td>group C</td>\n",
              "      <td>some college</td>\n",
              "      <td>standard</td>\n",
              "      <td>completed</td>\n",
              "      <td>69</td>\n",
              "      <td>90</td>\n",
              "      <td>88</td>\n",
              "    </tr>\n",
              "    <tr>\n",
              "      <th>2</th>\n",
              "      <td>female</td>\n",
              "      <td>group B</td>\n",
              "      <td>master's degree</td>\n",
              "      <td>standard</td>\n",
              "      <td>none</td>\n",
              "      <td>90</td>\n",
              "      <td>95</td>\n",
              "      <td>93</td>\n",
              "    </tr>\n",
              "    <tr>\n",
              "      <th>3</th>\n",
              "      <td>male</td>\n",
              "      <td>group A</td>\n",
              "      <td>associate's degree</td>\n",
              "      <td>free/reduced</td>\n",
              "      <td>none</td>\n",
              "      <td>47</td>\n",
              "      <td>57</td>\n",
              "      <td>44</td>\n",
              "    </tr>\n",
              "    <tr>\n",
              "      <th>4</th>\n",
              "      <td>male</td>\n",
              "      <td>group C</td>\n",
              "      <td>some college</td>\n",
              "      <td>standard</td>\n",
              "      <td>none</td>\n",
              "      <td>76</td>\n",
              "      <td>78</td>\n",
              "      <td>75</td>\n",
              "    </tr>\n",
              "  </tbody>\n",
              "</table>\n",
              "</div>"
            ],
            "text/plain": [
              "   gender race/ethnicity parental level of education         lunch  \\\n",
              "0  female        group B           bachelor's degree      standard   \n",
              "1  female        group C                some college      standard   \n",
              "2  female        group B             master's degree      standard   \n",
              "3    male        group A          associate's degree  free/reduced   \n",
              "4    male        group C                some college      standard   \n",
              "\n",
              "  test preparation course  math score  reading score  writing score  \n",
              "0                    none          72             72             74  \n",
              "1               completed          69             90             88  \n",
              "2                    none          90             95             93  \n",
              "3                    none          47             57             44  \n",
              "4                    none          76             78             75  "
            ]
          },
          "execution_count": 1,
          "metadata": {},
          "output_type": "execute_result"
        }
      ],
      "source": [
        "# You code here (Please add comments in the code):\n",
        "import pandas as pd\n",
        "data = pd.read_csv('StudentsPerformance.csv') # data source: https://www.kaggle.com/code/spscientist/student-performance-in-exams/data\n",
        "data.head()"
      ]
    },
    {
      "cell_type": "code",
      "execution_count": null,
      "metadata": {
        "id": "2NstQUudAB4b",
        "outputId": "409aa1b3-2971-41e6-84a4-12a970ca22ba"
      },
      "outputs": [
        {
          "name": "stdout",
          "output_type": "stream",
          "text": [
            "1000\n"
          ]
        }
      ],
      "source": [
        "print(len(data))"
      ]
    },
    {
      "cell_type": "markdown",
      "metadata": {
        "id": "8MNh8AtsAB4b"
      },
      "source": [
        "Question 3 (10 points): Write python code to collect 1000 articles from Google Scholar (https://scholar.google.com/), Microsoft Academic (https://academic.microsoft.com/home), or CiteSeerX (https://citeseerx.ist.psu.edu/index), or Semantic Scholar (https://www.semanticscholar.org/), or ACM Digital Libraries (https://dl.acm.org/) with the keyword \"information retrieval\". The articles should be published in the last 10 years (2012-2022).\n",
        "\n",
        "The following information of the article needs to be collected:\n",
        "\n",
        "(1) Title\n",
        "\n",
        "(2) Venue/journal/conference being published\n",
        "\n",
        "(3) Year\n",
        "\n",
        "(4) Authors\n",
        "\n",
        "(5) Abstract"
      ]
    },
    {
      "cell_type": "code",
      "execution_count": null,
      "metadata": {
        "id": "-n0A4y94AB4c"
      },
      "outputs": [],
      "source": [
        "# You code here (Please add comments in the code):\n",
        "import requests\n",
        "from bs4 import BeautifulSoup\n",
        "import pandas as pd\n",
        "import re"
      ]
    },
    {
      "cell_type": "code",
      "execution_count": null,
      "metadata": {
        "id": "PK5ExmynAB4c"
      },
      "outputs": [],
      "source": [
        "start = []\n",
        "for i in range(0,951):\n",
        "    if i%10 == 0:\n",
        "        start.append(i)"
      ]
    },
    {
      "cell_type": "code",
      "execution_count": null,
      "metadata": {
        "id": "2VNxpLa0AB4c"
      },
      "outputs": [],
      "source": [
        "# Initialize empty lists to store the articles' data\n",
        "titles = []\n",
        "venues = []\n",
        "years = []\n",
        "authors = []\n",
        "abstracts = []\n",
        "\n",
        "for i in start:\n",
        "    url = 'https://scholar.google.com/scholar?start='+str(i)+'&q=information+retrieval&hl=en&as_sdt=0,5'\n",
        "    response = requests.get(url)\n",
        "\n",
        "    # Parse the response using BeautifulSoup\n",
        "    soup = BeautifulSoup(response.text, 'html.parser')\n",
        "\n",
        "    # Find all the articles on the page\n",
        "    articles = soup.find_all('div', class_='gs_r gs_or gs_scl')\n",
        "\n",
        "    # Loop through the articles and collect the desired information\n",
        "    for article in articles[:1000]:\n",
        "        title = article.find('h3').text\n",
        "        titles.append(title)\n",
        "\n",
        "        venue = article.find('div', class_='gs_a').text\n",
        "        venues.append(venue)\n",
        "\n",
        "        year = article.find('div', class_='gs_a').text\n",
        "        year = int(re.search(r'\\d+', year).group())\n",
        "        #year = year[-4:]\n",
        "        years.append(year)\n",
        "\n",
        "        author = article.find('div', class_='gs_a').text\n",
        "        authors.append(author)\n",
        "\n",
        "        abstract = article.find('div', class_='gs_rs').text\n",
        "        abstracts.append(abstract)\n",
        "\n",
        "# Store the collected information in a DataFrame\n",
        "df = pd.DataFrame(data={'Title': titles, 'Venue': venues, 'Year': years, 'Authors': authors, 'Abstract': abstracts})"
      ]
    },
    {
      "cell_type": "markdown",
      "metadata": {
        "id": "-D35U8S6AB4d"
      },
      "source": [
        "Question 4 (10 points): Write python code to collect 1000 posts from Twitter, or Facebook, or Instagram. You can either use hashtags, keywords, user_name, user_id, or other information to collect the data. \n",
        "\n",
        "The following information needs to be collected:\n",
        "\n",
        "(1) User_name\n",
        "\n",
        "(2) Posted time\n",
        "\n",
        "(3) Text "
      ]
    },
    {
      "cell_type": "code",
      "execution_count": null,
      "metadata": {
        "id": "YbK-8m5wAB4d",
        "outputId": "c69a0c9e-9bf4-42f5-fcaf-367a3322d574"
      },
      "outputs": [
        {
          "name": "stderr",
          "output_type": "stream",
          "text": [
            "C:\\Users\\aseka\\AppData\\Local\\Temp\\ipykernel_11652\\548978114.py:16: FutureWarning: content is deprecated, use rawContent instead\n",
            "  tweets.append([tweet.date,tweet.user.username,tweet.content])\n"
          ]
        },
        {
          "data": {
            "text/html": [
              "<div>\n",
              "<style scoped>\n",
              "    .dataframe tbody tr th:only-of-type {\n",
              "        vertical-align: middle;\n",
              "    }\n",
              "\n",
              "    .dataframe tbody tr th {\n",
              "        vertical-align: top;\n",
              "    }\n",
              "\n",
              "    .dataframe thead th {\n",
              "        text-align: right;\n",
              "    }\n",
              "</style>\n",
              "<table border=\"1\" class=\"dataframe\">\n",
              "  <thead>\n",
              "    <tr style=\"text-align: right;\">\n",
              "      <th></th>\n",
              "      <th>Date</th>\n",
              "      <th>UserID</th>\n",
              "      <th>message</th>\n",
              "    </tr>\n",
              "  </thead>\n",
              "  <tbody>\n",
              "    <tr>\n",
              "      <th>0</th>\n",
              "      <td>2023-02-13 13:21:52+00:00</td>\n",
              "      <td>kdz_alterego</td>\n",
              "      <td>@jan_ro Was just watching a news update yester...</td>\n",
              "    </tr>\n",
              "    <tr>\n",
              "      <th>1</th>\n",
              "      <td>2023-02-13 13:21:50+00:00</td>\n",
              "      <td>CaribbeanAmor</td>\n",
              "      <td>I want some eggs, grits, Turkey bacon and avoc...</td>\n",
              "    </tr>\n",
              "    <tr>\n",
              "      <th>2</th>\n",
              "      <td>2023-02-13 13:21:50+00:00</td>\n",
              "      <td>champainmolly</td>\n",
              "      <td>Is it too early to eat Turkey wings???</td>\n",
              "    </tr>\n",
              "    <tr>\n",
              "      <th>3</th>\n",
              "      <td>2023-02-13 13:21:49+00:00</td>\n",
              "      <td>iizbal</td>\n",
              "      <td>@aykiricomtr @alexanderdecroo Take it to your ...</td>\n",
              "    </tr>\n",
              "    <tr>\n",
              "      <th>4</th>\n",
              "      <td>2023-02-13 13:21:47+00:00</td>\n",
              "      <td>gaffurminikyedi</td>\n",
              "      <td>Turkey hit by devastating earthquakes reaching...</td>\n",
              "    </tr>\n",
              "    <tr>\n",
              "      <th>...</th>\n",
              "      <td>...</td>\n",
              "      <td>...</td>\n",
              "      <td>...</td>\n",
              "    </tr>\n",
              "    <tr>\n",
              "      <th>995</th>\n",
              "      <td>2023-02-13 12:47:07+00:00</td>\n",
              "      <td>iamjoseh_</td>\n",
              "      <td>The death toll from the earthquake that hit Tu...</td>\n",
              "    </tr>\n",
              "    <tr>\n",
              "      <th>996</th>\n",
              "      <td>2023-02-13 12:47:04+00:00</td>\n",
              "      <td>BBCRadioLincs</td>\n",
              "      <td>Further updates on the Lincs firefighters work...</td>\n",
              "    </tr>\n",
              "    <tr>\n",
              "      <th>997</th>\n",
              "      <td>2023-02-13 12:47:04+00:00</td>\n",
              "      <td>theVERSEverse</td>\n",
              "      <td>good morning to everyone + especially new mama...</td>\n",
              "    </tr>\n",
              "    <tr>\n",
              "      <th>998</th>\n",
              "      <td>2023-02-13 12:47:03+00:00</td>\n",
              "      <td>AishHoor</td>\n",
              "      <td>@ayinla_aluko @Muslim He donated it for both !...</td>\n",
              "    </tr>\n",
              "    <tr>\n",
              "      <th>999</th>\n",
              "      <td>2023-02-13 12:47:03+00:00</td>\n",
              "      <td>T_EFF</td>\n",
              "      <td>@RGIII Watching the turkey come out on thanksg...</td>\n",
              "    </tr>\n",
              "  </tbody>\n",
              "</table>\n",
              "<p>1000 rows × 3 columns</p>\n",
              "</div>"
            ],
            "text/plain": [
              "                         Date           UserID  \\\n",
              "0   2023-02-13 13:21:52+00:00     kdz_alterego   \n",
              "1   2023-02-13 13:21:50+00:00    CaribbeanAmor   \n",
              "2   2023-02-13 13:21:50+00:00    champainmolly   \n",
              "3   2023-02-13 13:21:49+00:00           iizbal   \n",
              "4   2023-02-13 13:21:47+00:00  gaffurminikyedi   \n",
              "..                        ...              ...   \n",
              "995 2023-02-13 12:47:07+00:00        iamjoseh_   \n",
              "996 2023-02-13 12:47:04+00:00    BBCRadioLincs   \n",
              "997 2023-02-13 12:47:04+00:00    theVERSEverse   \n",
              "998 2023-02-13 12:47:03+00:00         AishHoor   \n",
              "999 2023-02-13 12:47:03+00:00            T_EFF   \n",
              "\n",
              "                                               message  \n",
              "0    @jan_ro Was just watching a news update yester...  \n",
              "1    I want some eggs, grits, Turkey bacon and avoc...  \n",
              "2               Is it too early to eat Turkey wings???  \n",
              "3    @aykiricomtr @alexanderdecroo Take it to your ...  \n",
              "4    Turkey hit by devastating earthquakes reaching...  \n",
              "..                                                 ...  \n",
              "995  The death toll from the earthquake that hit Tu...  \n",
              "996  Further updates on the Lincs firefighters work...  \n",
              "997  good morning to everyone + especially new mama...  \n",
              "998  @ayinla_aluko @Muslim He donated it for both !...  \n",
              "999  @RGIII Watching the turkey come out on thanksg...  \n",
              "\n",
              "[1000 rows x 3 columns]"
            ]
          },
          "execution_count": 5,
          "metadata": {},
          "output_type": "execute_result"
        }
      ],
      "source": [
        "# You code here (Please add comments in the code):\n",
        "from snscrape.modules import twitter #the twitter package for twitter scraping\n",
        "import pandas as pd # for saving data as a dataframe\n",
        "\n",
        "tweets = [] # empty list to store collected tweets\n",
        "limit = 1000 # maximum number of tweets to collect\n",
        "\n",
        "# Search for tweets using keywords.\n",
        "keywords = ['\"turkey\" lang:en','\"usa\" lang:en','\"ukraine\" lang:en']\n",
        "\n",
        "for keyword in keywords:\n",
        "    for tweet in twitter.TwitterSearchScraper(keyword).get_items():\n",
        "        if len(tweets)==limit:\n",
        "            break\n",
        "        else:\n",
        "            tweets.append([tweet.date,tweet.user.username,tweet.content])\n",
        "            \n",
        "# Save data as dataframe\n",
        "tweets_data = pd.DataFrame(tweets, columns=['Date','UserID','message'])\n",
        "tweets_data"
      ]
    }
  ],
  "metadata": {
    "kernelspec": {
      "display_name": "Python 3 (ipykernel)",
      "language": "python",
      "name": "python3"
    },
    "language_info": {
      "codemirror_mode": {
        "name": "ipython",
        "version": 3
      },
      "file_extension": ".py",
      "mimetype": "text/x-python",
      "name": "python",
      "nbconvert_exporter": "python",
      "pygments_lexer": "ipython3",
      "version": "3.9.13"
    },
    "vscode": {
      "interpreter": {
        "hash": "c21e64be1bf3bfcb51ccc08222d8f995447a6d1c8907d5ec5dacce5b8700e3d6"
      }
    },
    "colab": {
      "provenance": [],
      "include_colab_link": true
    }
  },
  "nbformat": 4,
  "nbformat_minor": 0
}